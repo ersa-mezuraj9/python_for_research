{
 "cells": [
  {
   "cell_type": "markdown",
   "metadata": {},
   "source": [
    "# Using Python for Research Homework: Week 3, Case Study 2\n",
    "\n",
    "In this case study, we will find and plot the distribution of word frequencies for each translation of Hamlet.  Perhaps the distribution of word frequencies of Hamlet depends on the translation --- let's find out!"
   ]
  },
  {
   "cell_type": "code",
   "execution_count": 1,
   "metadata": {},
   "outputs": [],
   "source": [
    "# DO NOT EDIT THIS CODE!\n",
    "import os\n",
    "import pandas as pd\n",
    "import numpy as np\n",
    "from collections import Counter\n",
    "\n",
    "def count_words_fast(text):\n",
    "    text = text.lower()\n",
    "    skips = [\".\", \",\", \";\", \":\", \"'\", '\"', \"\\n\", \"!\", \"?\", \"(\", \")\"]\n",
    "    for ch in skips:\n",
    "        text = text.replace(ch, \"\")\n",
    "    word_counts = Counter(text.split(\" \"))\n",
    "    return word_counts\n",
    "\n",
    "def word_stats(word_counts):\n",
    "    num_unique = len(word_counts)\n",
    "    counts = word_counts.values()\n",
    "    return (num_unique, counts)"
   ]
  },
  {
   "cell_type": "markdown",
   "metadata": {},
   "source": [
    "### Exercise 1 \n",
    "\n",
    "In this case study, we will find and visualize summary statistics of the text of different translations of Hamlet. For this case study, functions `count_words_fast` and `word_stats` are already defined as in the Case 2 Videos (Videos 3.2.x).\n",
    "\n",
    "#### Instructions \n",
    "- Read in the data as a pandas dataframe using `pd.read_csv`. Use the `index_col` argument to set the first column in the csv file as the index for the dataframe. The data can be found at https://courses.edx.org/asset-v1:HarvardX+PH526x+2T2019+type@asset+block@hamlets.csv"
   ]
  },
  {
   "cell_type": "code",
   "execution_count": 15,
   "metadata": {},
   "outputs": [
    {
     "name": "stdout",
     "output_type": "stream",
     "text": [
      "Number of languages: 3\n"
     ]
    }
   ],
   "source": [
    "hamlets = pd.read_csv(\"C:/Users/User/OneDrive/Desktop/python_for_research/data/hamlets.csv\", index_col= 0)\n",
    "print(\"Number of languages:\", hamlets['language'].nunique())\n",
    "language, text = hamlets.iloc[0]\n",
    "\n"
   ]
  },
  {
   "cell_type": "markdown",
   "metadata": {},
   "source": [
    "### Exercise 2 \n",
    "\n",
    "In this exercise, we will summarize the text for a single translation of Hamlet in a `pandas` dataframe. \n",
    "\n",
    "#### Instructions\n",
    "- Find the dictionary of word frequency in `text` by calling `count_words_fast()`. Store this as `counted_text`.\n",
    "- Create a `pandas` dataframe named `data`.\n",
    "- Using `counted_text`, define two columns in data:\n",
    "    - `word`, consisting of each unique word in text.\n",
    "    - `count`, consisting of the number of times each word in `word` is included in the text."
   ]
  },
  {
   "cell_type": "code",
   "execution_count": 18,
   "metadata": {},
   "outputs": [
    {
     "name": "stdout",
     "output_type": "stream",
     "text": [
      "       word  count\n",
      "0       the    935\n",
      "1  tragedie      3\n",
      "2        of    576\n",
      "3    hamlet     97\n",
      "4            45513\n"
     ]
    }
   ],
   "source": [
    "language, text = hamlets.iloc[0]\n",
    "\n",
    "counted_text = count_words_fast(text)\n",
    "\n",
    "data = pd.DataFrame(columns=[\"word\", \"count\"])\n",
    "\n",
    "i = 0\n",
    "for word, count in counted_text.items():\n",
    "    data.loc[i] = [word, count]\n",
    "    i += 1\n",
    "\n",
    "print(data.head())\n"
   ]
  },
  {
   "cell_type": "markdown",
   "metadata": {},
   "source": [
    "### Exercise 3\n",
    "\n",
    "In this exercise, we will continue to define summary statistics for a single translation of Hamlet. \n",
    "\n",
    "#### Instructions\n",
    "- Add a column to data named `length`, defined as the length of each word.\n",
    "- Add another column named `frequency`, which is defined as follows for each word in `data`:\n",
    "    - If `count > 10`, `frequency` is \"frequent\".\n",
    "    - If `1 < count <= 10`, `frequency` is \"infrequent\".\n",
    "    - If `count == 1`, `frequency` is \"unique\"."
   ]
  },
  {
   "cell_type": "code",
   "execution_count": 19,
   "metadata": {},
   "outputs": [
    {
     "name": "stdout",
     "output_type": "stream",
     "text": [
      "Number of unique words: 3348\n"
     ]
    }
   ],
   "source": [
    "# write your code here!\n",
    "data[\"length\"] = 0\n",
    "for i in range(len(data)):\n",
    "    data.loc[i, \"length\"] = len(data.loc[i, \"word\"])\n",
    "\n",
    "data[\"frequency\"] = \"\"\n",
    "for i in range(len(data)):\n",
    "    if data.loc[i, \"count\"] > 10:\n",
    "        data.loc[i, \"frequency\"] = \"frequent\"\n",
    "    elif 1 < data.loc[i, \"count\"] <= 10:\n",
    "        data.loc[i, \"frequency\"] = \"infrequent\"\n",
    "    elif data.loc[i, \"count\"] == 1:\n",
    "        data.loc[i, \"frequency\"] = \"unique\"\n",
    "\n",
    "num_unique_words = (data[\"frequency\"] == \"unique\").sum()\n",
    "print(\"Number of unique words:\", num_unique_words)\n"
   ]
  },
  {
   "cell_type": "markdown",
   "metadata": {},
   "source": [
    "### Exercise 4\n",
    "\n",
    "In this exercise, we will summarize the statistics in data into a smaller pandas dataframe. \n",
    "\n",
    "#### Instructions \n",
    "- Create a `pandas` dataframe named `sub_data` including the following columns:\n",
    "    - `language`, which is the language of the text (defined in Exercise 2).\n",
    "    - `frequency`, which is a list containing the strings \"frequent\", \"infrequent\", and \"unique\".\n",
    "    - `mean_word_length`, which is the mean word length of each value in frequency.\n",
    "    - `num_words`, which is the total number of words in each frequency category."
   ]
  },
  {
   "cell_type": "code",
   "execution_count": null,
   "metadata": {},
   "outputs": [
    {
     "name": "stdout",
     "output_type": "stream",
     "text": [
      "  language   frequency  mean_word_length  num_words\n",
      "0  English    frequent          4.371517      65628\n",
      "1  English  infrequent          5.825243       5060\n",
      "2  English      unique          7.005675       3348\n"
     ]
    }
   ],
   "source": [
    "language_name = language\n",
    "\n",
    "freq_categories = [\"frequent\", \"infrequent\", \"unique\"]\n",
    "\n",
    "sub_data = pd.DataFrame(columns=[\"language\", \"frequency\", \"mean_word_length\", \"num_words\"])\n",
    "\n",
    "i = 0\n",
    "for freq in freq_categories:\n",
    "    subset = data[data[\"frequency\"] == freq]\n",
    "    mean_length = subset[\"length\"].mean() if not subset.empty else 0\n",
    "    total_words = subset[\"count\"].sum() if not subset.empty else 0\n",
    "    sub_data.loc[i] = [language_name, freq, mean_length, total_words]\n",
    "    i += 1\n",
    "\n",
    "print(sub_data)"
   ]
  },
  {
   "cell_type": "markdown",
   "metadata": {},
   "source": [
    "### Exercise 5\n",
    "\n",
    "In this exercise, we will join all the data summaries for text Hamlet translation.\n",
    "\n",
    "#### Instructions \n",
    "- The previous code for summarizing a particular translation of Hamlet is consolidated into a single function called `summarize_text`. Create a pandas dataframe` grouped_data` consisting of the results of `summarize_text` for each translation of Hamlet in `hamlets`.\n",
    "    - Use a `for` loop across the row indices of `hamlets` to assign each translation to a new row.\n",
    "    - Obtain the `ith` row of `hamlets` to variables using the `.iloc` method, and assign the output to variables `language` and `text`.\n",
    "    - Call `summarize_text` using `language` and `text`, and assign the output to `sub_data`.\n",
    "    - Use the pandas `.append()` function to append to pandas dataframes row-wise to `grouped_data`."
   ]
  },
  {
   "cell_type": "code",
   "execution_count": 21,
   "metadata": {},
   "outputs": [
    {
     "name": "stdout",
     "output_type": "stream",
     "text": [
      "     language   frequency  mean_word_length num_words\n",
      "0     English    frequent          4.371517       323\n",
      "1     English  infrequent          5.825243      1442\n",
      "2     English      unique          7.005675      3348\n",
      "3      German    frequent          4.528053       303\n",
      "4      German  infrequent          6.481830      1596\n",
      "5      German      unique          9.006987      5582\n",
      "6  Portuguese    frequent          4.417625       261\n",
      "7  Portuguese  infrequent          6.497870      1643\n",
      "8  Portuguese      unique          8.669778      5357\n"
     ]
    },
    {
     "name": "stderr",
     "output_type": "stream",
     "text": [
      "C:\\Users\\User\\AppData\\Local\\Temp\\ipykernel_2128\\849115166.py:29: FutureWarning: The behavior of DataFrame concatenation with empty or all-NA entries is deprecated. In a future version, this will no longer exclude empty or all-NA columns when determining the result dtypes. To retain the old behavior, exclude the relevant entries before the concat operation.\n",
      "  grouped_data = pd.concat([grouped_data, sub_data], ignore_index=True)  # using concat since append was removed in pandas 2.0\n"
     ]
    }
   ],
   "source": [
    "def summarize_text(language, text):\n",
    "    counted_text = count_words_fast(text)\n",
    "\n",
    "    data = pd.DataFrame({\n",
    "        \"word\": list(counted_text.keys()),\n",
    "        \"count\": list(counted_text.values())\n",
    "    })\n",
    "    \n",
    "    data.loc[data[\"count\"] > 10,  \"frequency\"] = \"frequent\"\n",
    "    data.loc[data[\"count\"] <= 10, \"frequency\"] = \"infrequent\"\n",
    "    data.loc[data[\"count\"] == 1,  \"frequency\"] = \"unique\"\n",
    "    \n",
    "    data[\"length\"] = data[\"word\"].apply(len)\n",
    "    \n",
    "    sub_data = pd.DataFrame({\n",
    "        \"language\": language,\n",
    "        \"frequency\": [\"frequent\",\"infrequent\",\"unique\"],\n",
    "        \"mean_word_length\": data.groupby(by = \"frequency\")[\"length\"].mean(),\n",
    "        \"num_words\": data.groupby(by = \"frequency\").size()\n",
    "    })\n",
    "    \n",
    "    return(sub_data)\n",
    "    \n",
    "# write your code here!\n",
    "grouped_data = pd.DataFrame(columns=[\"language\", \"frequency\", \"mean_word_length\", \"num_words\"])\n",
    "for i in range(len(hamlets)):\n",
    "    language, text = hamlets.iloc[i]\n",
    "    sub_data = summarize_text(language, text)\n",
    "    grouped_data = pd.concat([grouped_data, sub_data], ignore_index=True)  # using concat since append was removed in pandas 2.0\n",
    "\n",
    "print(grouped_data)"
   ]
  },
  {
   "cell_type": "markdown",
   "metadata": {},
   "source": [
    "### Exercise 6\n",
    "\n",
    "In this exercise, we will plot our results and look for differences across each translation.\n",
    "\n",
    "#### Instructions \n",
    "- Plot the word statistics of each translations on a single plot. Note that we have already done most of the work for you.\n",
    "- Consider: do the word statistics differ by translation?"
   ]
  },
  {
   "cell_type": "code",
   "execution_count": 22,
   "metadata": {},
   "outputs": [
    {
     "data": {
      "image/png": "[encoded data removed]",
      "text/plain": [
       "<Figure size 640x480 with 1 Axes>"
      ]
     },
     "metadata": {},
     "output_type": "display_data"
    }
   ],
   "source": [
    "colors = {\"Portuguese\": \"green\", \"English\": \"blue\", \"German\": \"red\"}\n",
    "markers = {\"frequent\": \"o\",\"infrequent\": \"s\", \"unique\": \"^\"}\n",
    "import matplotlib.pyplot as plt\n",
    "for i in range(grouped_data.shape[0]):\n",
    "    row = grouped_data.iloc[i]\n",
    "    plt.plot(row.mean_word_length, row.num_words,\n",
    "        marker=markers[row.frequency],\n",
    "        color = colors[row.language],\n",
    "        markersize = 10\n",
    "    )\n",
    "\n",
    "color_legend = []\n",
    "marker_legend = []\n",
    "for color in colors:\n",
    "    color_legend.append(\n",
    "        plt.plot([], [],\n",
    "        color=colors[color],\n",
    "        marker=\"o\",\n",
    "        label = color, markersize = 10, linestyle=\"None\")\n",
    "    )\n",
    "for marker in markers:\n",
    "    marker_legend.append(\n",
    "        plt.plot([], [],\n",
    "        color=\"k\",\n",
    "        marker=markers[marker],\n",
    "        label = marker, markersize = 10, linestyle=\"None\")\n",
    "    )\n",
    "plt.legend(numpoints=1, loc = \"upper left\")\n",
    "\n",
    "plt.xlabel(\"Mean Word Length\")\n",
    "plt.ylabel(\"Number of Words\")\n",
    "plt.show()"
   ]
  }
 ],
 "metadata": {
  "kernelspec": {
   "display_name": "Python 3",
   "language": "python",
   "name": "python3"
  },
  "language_info": {
   "codemirror_mode": {
    "name": "ipython",
    "version": 3
   },
   "file_extension": ".py",
   "mimetype": "text/x-python",
   "name": "python",
   "nbconvert_exporter": "python",
   "pygments_lexer": "ipython3",
   "version": "3.13.0"
  },
  "toc": {
   "base_numbering": 1,
   "nav_menu": {},
   "number_sections": true,
   "sideBar": true,
   "skip_h1_title": false,
   "title_cell": "Table of Contents",
   "title_sidebar": "Contents",
   "toc_cell": false,
   "toc_position": {},
   "toc_section_display": true,
   "toc_window_display": false
  }
 },
 "nbformat": 4,
 "nbformat_minor": 2
}
